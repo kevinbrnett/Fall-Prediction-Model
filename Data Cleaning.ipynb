{
 "cells": [
  {
   "cell_type": "code",
   "execution_count": 1,
   "id": "6ae5fa66",
   "metadata": {},
   "outputs": [],
   "source": [
    "## Imports\n",
    "import pandas as pd"
   ]
  },
  {
   "cell_type": "code",
   "execution_count": 2,
   "id": "8d0c75d8",
   "metadata": {},
   "outputs": [
    {
     "name": "stdout",
     "output_type": "stream",
     "text": [
      "<class 'pandas.core.frame.DataFrame'>\n",
      "RangeIndex: 2039 entries, 0 to 2038\n",
      "Data columns (total 7 columns):\n",
      " #   Column         Non-Null Count  Dtype  \n",
      "---  ------         --------------  -----  \n",
      " 0   Distance       2039 non-null   float64\n",
      " 1   Pressure       2039 non-null   float64\n",
      " 2   HRV            2039 non-null   float64\n",
      " 3   Sugar level    2039 non-null   float64\n",
      " 4   SpO2           2039 non-null   float64\n",
      " 5   Accelerometer  2039 non-null   float64\n",
      " 6   Decision       2039 non-null   int64  \n",
      "dtypes: float64(6), int64(1)\n",
      "memory usage: 111.6 KB\n"
     ]
    },
    {
     "data": {
      "text/html": [
       "<div>\n",
       "<style scoped>\n",
       "    .dataframe tbody tr th:only-of-type {\n",
       "        vertical-align: middle;\n",
       "    }\n",
       "\n",
       "    .dataframe tbody tr th {\n",
       "        vertical-align: top;\n",
       "    }\n",
       "\n",
       "    .dataframe thead th {\n",
       "        text-align: right;\n",
       "    }\n",
       "</style>\n",
       "<table border=\"1\" class=\"dataframe\">\n",
       "  <thead>\n",
       "    <tr style=\"text-align: right;\">\n",
       "      <th></th>\n",
       "      <th>Distance</th>\n",
       "      <th>Pressure</th>\n",
       "      <th>HRV</th>\n",
       "      <th>Sugar level</th>\n",
       "      <th>SpO2</th>\n",
       "      <th>Accelerometer</th>\n",
       "      <th>Decision</th>\n",
       "    </tr>\n",
       "  </thead>\n",
       "  <tbody>\n",
       "    <tr>\n",
       "      <th>0</th>\n",
       "      <td>25.540</td>\n",
       "      <td>1.0</td>\n",
       "      <td>101.396</td>\n",
       "      <td>61.080</td>\n",
       "      <td>87.770</td>\n",
       "      <td>1.0</td>\n",
       "      <td>1</td>\n",
       "    </tr>\n",
       "    <tr>\n",
       "      <th>1</th>\n",
       "      <td>2.595</td>\n",
       "      <td>2.0</td>\n",
       "      <td>110.190</td>\n",
       "      <td>20.207</td>\n",
       "      <td>65.190</td>\n",
       "      <td>1.0</td>\n",
       "      <td>2</td>\n",
       "    </tr>\n",
       "    <tr>\n",
       "      <th>2</th>\n",
       "      <td>68.067</td>\n",
       "      <td>0.0</td>\n",
       "      <td>87.412</td>\n",
       "      <td>79.345</td>\n",
       "      <td>99.345</td>\n",
       "      <td>0.0</td>\n",
       "      <td>0</td>\n",
       "    </tr>\n",
       "    <tr>\n",
       "      <th>3</th>\n",
       "      <td>13.090</td>\n",
       "      <td>1.0</td>\n",
       "      <td>92.266</td>\n",
       "      <td>36.180</td>\n",
       "      <td>81.545</td>\n",
       "      <td>1.0</td>\n",
       "      <td>1</td>\n",
       "    </tr>\n",
       "    <tr>\n",
       "      <th>4</th>\n",
       "      <td>69.430</td>\n",
       "      <td>0.0</td>\n",
       "      <td>89.480</td>\n",
       "      <td>80.000</td>\n",
       "      <td>99.990</td>\n",
       "      <td>0.0</td>\n",
       "      <td>0</td>\n",
       "    </tr>\n",
       "  </tbody>\n",
       "</table>\n",
       "</div>"
      ],
      "text/plain": [
       "   Distance  Pressure      HRV  Sugar level    SpO2  Accelerometer  Decision \n",
       "0    25.540       1.0  101.396       61.080  87.770            1.0          1\n",
       "1     2.595       2.0  110.190       20.207  65.190            1.0          2\n",
       "2    68.067       0.0   87.412       79.345  99.345            0.0          0\n",
       "3    13.090       1.0   92.266       36.180  81.545            1.0          1\n",
       "4    69.430       0.0   89.480       80.000  99.990            0.0          0"
      ]
     },
     "execution_count": 2,
     "metadata": {},
     "output_type": "execute_result"
    }
   ],
   "source": [
    "## Load data\n",
    "df = pd.read_csv('Data/fall_data.csv') \n",
    "df.info()\n",
    "df.head()"
   ]
  },
  {
   "cell_type": "markdown",
   "id": "b9c6ac1b",
   "metadata": {},
   "source": [
    "> We can see that the data does not have any missing values. One hot encoded features will be converted to 'int64' dtype."
   ]
  },
  {
   "cell_type": "code",
   "execution_count": 3,
   "id": "ce71511b",
   "metadata": {},
   "outputs": [
    {
     "name": "stdout",
     "output_type": "stream",
     "text": [
      "<class 'pandas.core.frame.DataFrame'>\n",
      "RangeIndex: 2039 entries, 0 to 2038\n",
      "Data columns (total 7 columns):\n",
      " #   Column         Non-Null Count  Dtype  \n",
      "---  ------         --------------  -----  \n",
      " 0   distance       2039 non-null   float64\n",
      " 1   pressure       2039 non-null   float64\n",
      " 2   hrv            2039 non-null   float64\n",
      " 3   sugar level    2039 non-null   float64\n",
      " 4   spo2           2039 non-null   float64\n",
      " 5   accelerometer  2039 non-null   float64\n",
      " 6   decision       2039 non-null   int64  \n",
      "dtypes: float64(6), int64(1)\n",
      "memory usage: 111.6 KB\n"
     ]
    }
   ],
   "source": [
    "## Reformat column names\n",
    "df.columns = df.columns.str.lower()\n",
    "df.info()"
   ]
  },
  {
   "cell_type": "code",
   "execution_count": 4,
   "id": "ba875de0",
   "metadata": {},
   "outputs": [],
   "source": [
    "df.rename(columns={'distance':'distance (cm)','hrv':'hrv (bpm)',\n",
    "                   'sugar level':'blood sugar level (mg/dL)',\n",
    "                   'decision ':'decision',}, inplace=True)"
   ]
  },
  {
   "cell_type": "code",
   "execution_count": 5,
   "id": "1d5b3149",
   "metadata": {},
   "outputs": [
    {
     "data": {
      "text/plain": [
       "Index(['distance (cm)', 'pressure', 'hrv (bpm)', 'blood sugar level (mg/dL)',\n",
       "       'spo2', 'accelerometer', 'decision'],\n",
       "      dtype='object')"
      ]
     },
     "execution_count": 5,
     "metadata": {},
     "output_type": "execute_result"
    }
   ],
   "source": [
    "df.columns"
   ]
  },
  {
   "cell_type": "code",
   "execution_count": 6,
   "id": "77d7ed15",
   "metadata": {},
   "outputs": [
    {
     "name": "stdout",
     "output_type": "stream",
     "text": [
      "<class 'pandas.core.frame.DataFrame'>\n",
      "RangeIndex: 2039 entries, 0 to 2038\n",
      "Data columns (total 7 columns):\n",
      " #   Column                     Non-Null Count  Dtype  \n",
      "---  ------                     --------------  -----  \n",
      " 0   distance (cm)              2039 non-null   float64\n",
      " 1   pressure                   2039 non-null   float64\n",
      " 2   hrv (bpm)                  2039 non-null   float64\n",
      " 3   blood sugar level (mg/dL)  2039 non-null   float64\n",
      " 4   spo2                       2039 non-null   float64\n",
      " 5   accelerometer              2039 non-null   float64\n",
      " 6   decision                   2039 non-null   int64  \n",
      "dtypes: float64(6), int64(1)\n",
      "memory usage: 111.6 KB\n"
     ]
    }
   ],
   "source": [
    "df.info()"
   ]
  },
  {
   "cell_type": "markdown",
   "id": "e6e2b28f",
   "metadata": {},
   "source": [
    "> There are no missing values in the data set"
   ]
  },
  {
   "cell_type": "code",
   "execution_count": 7,
   "id": "056966ac",
   "metadata": {},
   "outputs": [],
   "source": [
    "## Change categorical features dtype from float64 to int\n",
    "cols_change = {'pressure':'int64', 'accelerometer':'int64'}"
   ]
  },
  {
   "cell_type": "code",
   "execution_count": 8,
   "id": "51b10652",
   "metadata": {},
   "outputs": [
    {
     "name": "stdout",
     "output_type": "stream",
     "text": [
      "<class 'pandas.core.frame.DataFrame'>\n",
      "RangeIndex: 2039 entries, 0 to 2038\n",
      "Data columns (total 7 columns):\n",
      " #   Column                     Non-Null Count  Dtype  \n",
      "---  ------                     --------------  -----  \n",
      " 0   distance (cm)              2039 non-null   float64\n",
      " 1   pressure                   2039 non-null   int64  \n",
      " 2   hrv (bpm)                  2039 non-null   float64\n",
      " 3   blood sugar level (mg/dL)  2039 non-null   float64\n",
      " 4   spo2                       2039 non-null   float64\n",
      " 5   accelerometer              2039 non-null   int64  \n",
      " 6   decision                   2039 non-null   int64  \n",
      "dtypes: float64(4), int64(3)\n",
      "memory usage: 111.6 KB\n"
     ]
    }
   ],
   "source": [
    "df = df.astype(cols_change)\n",
    "df.info()"
   ]
  },
  {
   "cell_type": "code",
   "execution_count": 9,
   "id": "f47f6ba0",
   "metadata": {},
   "outputs": [
    {
     "data": {
      "text/html": [
       "<div>\n",
       "<style scoped>\n",
       "    .dataframe tbody tr th:only-of-type {\n",
       "        vertical-align: middle;\n",
       "    }\n",
       "\n",
       "    .dataframe tbody tr th {\n",
       "        vertical-align: top;\n",
       "    }\n",
       "\n",
       "    .dataframe thead th {\n",
       "        text-align: right;\n",
       "    }\n",
       "</style>\n",
       "<table border=\"1\" class=\"dataframe\">\n",
       "  <thead>\n",
       "    <tr style=\"text-align: right;\">\n",
       "      <th></th>\n",
       "      <th>distance (cm)</th>\n",
       "      <th>pressure</th>\n",
       "      <th>hrv (bpm)</th>\n",
       "      <th>blood sugar level (mg/dL)</th>\n",
       "      <th>spo2</th>\n",
       "      <th>accelerometer</th>\n",
       "      <th>decision</th>\n",
       "    </tr>\n",
       "  </thead>\n",
       "  <tbody>\n",
       "    <tr>\n",
       "      <th>count</th>\n",
       "      <td>2039.000000</td>\n",
       "      <td>2039.000000</td>\n",
       "      <td>2039.000000</td>\n",
       "      <td>2039.000000</td>\n",
       "      <td>2039.000000</td>\n",
       "      <td>2039.000000</td>\n",
       "      <td>2039.000000</td>\n",
       "    </tr>\n",
       "    <tr>\n",
       "      <th>mean</th>\n",
       "      <td>28.694527</td>\n",
       "      <td>0.988720</td>\n",
       "      <td>95.657002</td>\n",
       "      <td>72.909243</td>\n",
       "      <td>83.563649</td>\n",
       "      <td>0.661599</td>\n",
       "      <td>0.988720</td>\n",
       "    </tr>\n",
       "    <tr>\n",
       "      <th>std</th>\n",
       "      <td>23.773644</td>\n",
       "      <td>0.815918</td>\n",
       "      <td>17.576499</td>\n",
       "      <td>46.940110</td>\n",
       "      <td>11.111592</td>\n",
       "      <td>0.473282</td>\n",
       "      <td>0.815918</td>\n",
       "    </tr>\n",
       "    <tr>\n",
       "      <th>min</th>\n",
       "      <td>0.000000</td>\n",
       "      <td>0.000000</td>\n",
       "      <td>60.000000</td>\n",
       "      <td>10.000000</td>\n",
       "      <td>60.000000</td>\n",
       "      <td>0.000000</td>\n",
       "      <td>0.000000</td>\n",
       "    </tr>\n",
       "    <tr>\n",
       "      <th>25%</th>\n",
       "      <td>7.642500</td>\n",
       "      <td>0.000000</td>\n",
       "      <td>82.418000</td>\n",
       "      <td>40.230000</td>\n",
       "      <td>75.285000</td>\n",
       "      <td>0.000000</td>\n",
       "      <td>0.000000</td>\n",
       "    </tr>\n",
       "    <tr>\n",
       "      <th>50%</th>\n",
       "      <td>20.560000</td>\n",
       "      <td>1.000000</td>\n",
       "      <td>97.238000</td>\n",
       "      <td>69.960000</td>\n",
       "      <td>85.280000</td>\n",
       "      <td>1.000000</td>\n",
       "      <td>1.000000</td>\n",
       "    </tr>\n",
       "    <tr>\n",
       "      <th>75%</th>\n",
       "      <td>55.205500</td>\n",
       "      <td>2.000000</td>\n",
       "      <td>109.695000</td>\n",
       "      <td>77.612500</td>\n",
       "      <td>92.692500</td>\n",
       "      <td>1.000000</td>\n",
       "      <td>2.000000</td>\n",
       "    </tr>\n",
       "    <tr>\n",
       "      <th>max</th>\n",
       "      <td>69.981000</td>\n",
       "      <td>2.000000</td>\n",
       "      <td>124.980000</td>\n",
       "      <td>179.293000</td>\n",
       "      <td>99.990000</td>\n",
       "      <td>1.000000</td>\n",
       "      <td>2.000000</td>\n",
       "    </tr>\n",
       "  </tbody>\n",
       "</table>\n",
       "</div>"
      ],
      "text/plain": [
       "       distance (cm)     pressure    hrv (bpm)  blood sugar level (mg/dL)  \\\n",
       "count    2039.000000  2039.000000  2039.000000                2039.000000   \n",
       "mean       28.694527     0.988720    95.657002                  72.909243   \n",
       "std        23.773644     0.815918    17.576499                  46.940110   \n",
       "min         0.000000     0.000000    60.000000                  10.000000   \n",
       "25%         7.642500     0.000000    82.418000                  40.230000   \n",
       "50%        20.560000     1.000000    97.238000                  69.960000   \n",
       "75%        55.205500     2.000000   109.695000                  77.612500   \n",
       "max        69.981000     2.000000   124.980000                 179.293000   \n",
       "\n",
       "              spo2  accelerometer     decision  \n",
       "count  2039.000000    2039.000000  2039.000000  \n",
       "mean     83.563649       0.661599     0.988720  \n",
       "std      11.111592       0.473282     0.815918  \n",
       "min      60.000000       0.000000     0.000000  \n",
       "25%      75.285000       0.000000     0.000000  \n",
       "50%      85.280000       1.000000     1.000000  \n",
       "75%      92.692500       1.000000     2.000000  \n",
       "max      99.990000       1.000000     2.000000  "
      ]
     },
     "execution_count": 9,
     "metadata": {},
     "output_type": "execute_result"
    }
   ],
   "source": [
    "## Check statistical description for impossible values\n",
    "df.describe()"
   ]
  },
  {
   "cell_type": "markdown",
   "id": "590fb914",
   "metadata": {},
   "source": [
    "> The blood sugar level (mg/dL) column has a huge range between the max and min values. A reading of 10 mg/dL would be life-threateningly low. This will further be explored in the EDA process."
   ]
  },
  {
   "cell_type": "code",
   "execution_count": 10,
   "id": "d7428459",
   "metadata": {},
   "outputs": [],
   "source": [
    "## Save cleaned dataframe\n",
    "df.to_csv('Data/clean_fall_data.csv')"
   ]
  },
  {
   "cell_type": "markdown",
   "id": "e8ad8031",
   "metadata": {},
   "source": [
    "# Data Cleaning Summary"
   ]
  },
  {
   "cell_type": "markdown",
   "id": "cd8c45b1",
   "metadata": {},
   "source": [
    "- The data was already clean for missing values and inconsistencies.\n",
    "- Column names were changed to all lowercase and one hot encoded features were changed to 'int64' dtype for ease of work.\n",
    "- Cleaned dataframe was saved to a .csv file."
   ]
  }
 ],
 "metadata": {
  "kernelspec": {
   "display_name": "Python (dojo-env)",
   "language": "python",
   "name": "dojo-env"
  },
  "language_info": {
   "codemirror_mode": {
    "name": "ipython",
    "version": 3
   },
   "file_extension": ".py",
   "mimetype": "text/x-python",
   "name": "python",
   "nbconvert_exporter": "python",
   "pygments_lexer": "ipython3",
   "version": "3.9.15"
  },
  "toc": {
   "base_numbering": 1,
   "nav_menu": {},
   "number_sections": false,
   "sideBar": true,
   "skip_h1_title": false,
   "title_cell": "Table of Contents",
   "title_sidebar": "Contents",
   "toc_cell": false,
   "toc_position": {},
   "toc_section_display": true,
   "toc_window_display": false
  }
 },
 "nbformat": 4,
 "nbformat_minor": 5
}
